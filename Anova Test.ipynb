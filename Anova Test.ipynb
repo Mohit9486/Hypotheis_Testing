{
 "cells": [
  {
   "cell_type": "markdown",
   "metadata": {},
   "source": [
    "# IMPORTING LIBRARIES"
   ]
  },
  {
   "cell_type": "code",
   "execution_count": 1,
   "metadata": {},
   "outputs": [],
   "source": [
    "import pandas as pd\n",
    "import numpy as np\n",
    "import matplotlib.pyplot as plt\n",
    "import seaborn as sns\n",
    "import scipy.stats as stats"
   ]
  },
  {
   "cell_type": "markdown",
   "metadata": {},
   "source": [
    "# Anova Test (F-Test)"
   ]
  },
  {
   "cell_type": "markdown",
   "metadata": {},
   "source": [
    "The t-test works well when dealing with two groups, but sometimes we want to compare more than two groups at the same time, In that case we use Anova Testing or F Test."
   ]
  },
  {
   "cell_type": "markdown",
   "metadata": {},
   "source": [
    "So F test tell whether two or more groups are similar or not based on their mean similarity and f-score."
   ]
  },
  {
   "cell_type": "markdown",
   "metadata": {},
   "source": [
    "So We will check this in the iris dataset which is present in seaborn library."
   ]
  },
  {
   "cell_type": "code",
   "execution_count": 2,
   "metadata": {},
   "outputs": [],
   "source": [
    "df = sns.load_dataset('iris')"
   ]
  },
  {
   "cell_type": "code",
   "execution_count": 3,
   "metadata": {},
   "outputs": [
    {
     "data": {
      "text/html": [
       "<div>\n",
       "<style scoped>\n",
       "    .dataframe tbody tr th:only-of-type {\n",
       "        vertical-align: middle;\n",
       "    }\n",
       "\n",
       "    .dataframe tbody tr th {\n",
       "        vertical-align: top;\n",
       "    }\n",
       "\n",
       "    .dataframe thead th {\n",
       "        text-align: right;\n",
       "    }\n",
       "</style>\n",
       "<table border=\"1\" class=\"dataframe\">\n",
       "  <thead>\n",
       "    <tr style=\"text-align: right;\">\n",
       "      <th></th>\n",
       "      <th>sepal_length</th>\n",
       "      <th>sepal_width</th>\n",
       "      <th>petal_length</th>\n",
       "      <th>petal_width</th>\n",
       "      <th>species</th>\n",
       "    </tr>\n",
       "  </thead>\n",
       "  <tbody>\n",
       "    <tr>\n",
       "      <td>0</td>\n",
       "      <td>5.1</td>\n",
       "      <td>3.5</td>\n",
       "      <td>1.4</td>\n",
       "      <td>0.2</td>\n",
       "      <td>setosa</td>\n",
       "    </tr>\n",
       "    <tr>\n",
       "      <td>1</td>\n",
       "      <td>4.9</td>\n",
       "      <td>3.0</td>\n",
       "      <td>1.4</td>\n",
       "      <td>0.2</td>\n",
       "      <td>setosa</td>\n",
       "    </tr>\n",
       "    <tr>\n",
       "      <td>2</td>\n",
       "      <td>4.7</td>\n",
       "      <td>3.2</td>\n",
       "      <td>1.3</td>\n",
       "      <td>0.2</td>\n",
       "      <td>setosa</td>\n",
       "    </tr>\n",
       "    <tr>\n",
       "      <td>3</td>\n",
       "      <td>4.6</td>\n",
       "      <td>3.1</td>\n",
       "      <td>1.5</td>\n",
       "      <td>0.2</td>\n",
       "      <td>setosa</td>\n",
       "    </tr>\n",
       "    <tr>\n",
       "      <td>4</td>\n",
       "      <td>5.0</td>\n",
       "      <td>3.6</td>\n",
       "      <td>1.4</td>\n",
       "      <td>0.2</td>\n",
       "      <td>setosa</td>\n",
       "    </tr>\n",
       "    <tr>\n",
       "      <td>...</td>\n",
       "      <td>...</td>\n",
       "      <td>...</td>\n",
       "      <td>...</td>\n",
       "      <td>...</td>\n",
       "      <td>...</td>\n",
       "    </tr>\n",
       "    <tr>\n",
       "      <td>145</td>\n",
       "      <td>6.7</td>\n",
       "      <td>3.0</td>\n",
       "      <td>5.2</td>\n",
       "      <td>2.3</td>\n",
       "      <td>virginica</td>\n",
       "    </tr>\n",
       "    <tr>\n",
       "      <td>146</td>\n",
       "      <td>6.3</td>\n",
       "      <td>2.5</td>\n",
       "      <td>5.0</td>\n",
       "      <td>1.9</td>\n",
       "      <td>virginica</td>\n",
       "    </tr>\n",
       "    <tr>\n",
       "      <td>147</td>\n",
       "      <td>6.5</td>\n",
       "      <td>3.0</td>\n",
       "      <td>5.2</td>\n",
       "      <td>2.0</td>\n",
       "      <td>virginica</td>\n",
       "    </tr>\n",
       "    <tr>\n",
       "      <td>148</td>\n",
       "      <td>6.2</td>\n",
       "      <td>3.4</td>\n",
       "      <td>5.4</td>\n",
       "      <td>2.3</td>\n",
       "      <td>virginica</td>\n",
       "    </tr>\n",
       "    <tr>\n",
       "      <td>149</td>\n",
       "      <td>5.9</td>\n",
       "      <td>3.0</td>\n",
       "      <td>5.1</td>\n",
       "      <td>1.8</td>\n",
       "      <td>virginica</td>\n",
       "    </tr>\n",
       "  </tbody>\n",
       "</table>\n",
       "<p>150 rows × 5 columns</p>\n",
       "</div>"
      ],
      "text/plain": [
       "     sepal_length  sepal_width  petal_length  petal_width    species\n",
       "0             5.1          3.5           1.4          0.2     setosa\n",
       "1             4.9          3.0           1.4          0.2     setosa\n",
       "2             4.7          3.2           1.3          0.2     setosa\n",
       "3             4.6          3.1           1.5          0.2     setosa\n",
       "4             5.0          3.6           1.4          0.2     setosa\n",
       "..            ...          ...           ...          ...        ...\n",
       "145           6.7          3.0           5.2          2.3  virginica\n",
       "146           6.3          2.5           5.0          1.9  virginica\n",
       "147           6.5          3.0           5.2          2.0  virginica\n",
       "148           6.2          3.4           5.4          2.3  virginica\n",
       "149           5.9          3.0           5.1          1.8  virginica\n",
       "\n",
       "[150 rows x 5 columns]"
      ]
     },
     "execution_count": 3,
     "metadata": {},
     "output_type": "execute_result"
    }
   ],
   "source": [
    "df"
   ]
  },
  {
   "cell_type": "code",
   "execution_count": 4,
   "metadata": {},
   "outputs": [],
   "source": [
    "df_anova = df[['petal_width','species']]"
   ]
  },
  {
   "cell_type": "code",
   "execution_count": 5,
   "metadata": {},
   "outputs": [],
   "source": [
    "grps = pd.unique(df_anova.species.values)"
   ]
  },
  {
   "cell_type": "code",
   "execution_count": 6,
   "metadata": {},
   "outputs": [
    {
     "data": {
      "text/plain": [
       "array(['setosa', 'versicolor', 'virginica'], dtype=object)"
      ]
     },
     "execution_count": 6,
     "metadata": {},
     "output_type": "execute_result"
    }
   ],
   "source": [
    "grps"
   ]
  },
  {
   "cell_type": "code",
   "execution_count": 7,
   "metadata": {},
   "outputs": [],
   "source": [
    "d_data = {grp:df_anova['petal_width'][df_anova.species == grp] for grp in grps}"
   ]
  },
  {
   "cell_type": "code",
   "execution_count": 8,
   "metadata": {},
   "outputs": [
    {
     "name": "stdout",
     "output_type": "stream",
     "text": [
      "{'setosa': 0     0.2\n",
      "1     0.2\n",
      "2     0.2\n",
      "3     0.2\n",
      "4     0.2\n",
      "5     0.4\n",
      "6     0.3\n",
      "7     0.2\n",
      "8     0.2\n",
      "9     0.1\n",
      "10    0.2\n",
      "11    0.2\n",
      "12    0.1\n",
      "13    0.1\n",
      "14    0.2\n",
      "15    0.4\n",
      "16    0.4\n",
      "17    0.3\n",
      "18    0.3\n",
      "19    0.3\n",
      "20    0.2\n",
      "21    0.4\n",
      "22    0.2\n",
      "23    0.5\n",
      "24    0.2\n",
      "25    0.2\n",
      "26    0.4\n",
      "27    0.2\n",
      "28    0.2\n",
      "29    0.2\n",
      "30    0.2\n",
      "31    0.4\n",
      "32    0.1\n",
      "33    0.2\n",
      "34    0.2\n",
      "35    0.2\n",
      "36    0.2\n",
      "37    0.1\n",
      "38    0.2\n",
      "39    0.2\n",
      "40    0.3\n",
      "41    0.3\n",
      "42    0.2\n",
      "43    0.6\n",
      "44    0.4\n",
      "45    0.3\n",
      "46    0.2\n",
      "47    0.2\n",
      "48    0.2\n",
      "49    0.2\n",
      "Name: petal_width, dtype: float64, 'versicolor': 50    1.4\n",
      "51    1.5\n",
      "52    1.5\n",
      "53    1.3\n",
      "54    1.5\n",
      "55    1.3\n",
      "56    1.6\n",
      "57    1.0\n",
      "58    1.3\n",
      "59    1.4\n",
      "60    1.0\n",
      "61    1.5\n",
      "62    1.0\n",
      "63    1.4\n",
      "64    1.3\n",
      "65    1.4\n",
      "66    1.5\n",
      "67    1.0\n",
      "68    1.5\n",
      "69    1.1\n",
      "70    1.8\n",
      "71    1.3\n",
      "72    1.5\n",
      "73    1.2\n",
      "74    1.3\n",
      "75    1.4\n",
      "76    1.4\n",
      "77    1.7\n",
      "78    1.5\n",
      "79    1.0\n",
      "80    1.1\n",
      "81    1.0\n",
      "82    1.2\n",
      "83    1.6\n",
      "84    1.5\n",
      "85    1.6\n",
      "86    1.5\n",
      "87    1.3\n",
      "88    1.3\n",
      "89    1.3\n",
      "90    1.2\n",
      "91    1.4\n",
      "92    1.2\n",
      "93    1.0\n",
      "94    1.3\n",
      "95    1.2\n",
      "96    1.3\n",
      "97    1.3\n",
      "98    1.1\n",
      "99    1.3\n",
      "Name: petal_width, dtype: float64, 'virginica': 100    2.5\n",
      "101    1.9\n",
      "102    2.1\n",
      "103    1.8\n",
      "104    2.2\n",
      "105    2.1\n",
      "106    1.7\n",
      "107    1.8\n",
      "108    1.8\n",
      "109    2.5\n",
      "110    2.0\n",
      "111    1.9\n",
      "112    2.1\n",
      "113    2.0\n",
      "114    2.4\n",
      "115    2.3\n",
      "116    1.8\n",
      "117    2.2\n",
      "118    2.3\n",
      "119    1.5\n",
      "120    2.3\n",
      "121    2.0\n",
      "122    2.0\n",
      "123    1.8\n",
      "124    2.1\n",
      "125    1.8\n",
      "126    1.8\n",
      "127    1.8\n",
      "128    2.1\n",
      "129    1.6\n",
      "130    1.9\n",
      "131    2.0\n",
      "132    2.2\n",
      "133    1.5\n",
      "134    1.4\n",
      "135    2.3\n",
      "136    2.4\n",
      "137    1.8\n",
      "138    1.8\n",
      "139    2.1\n",
      "140    2.4\n",
      "141    2.3\n",
      "142    1.9\n",
      "143    2.3\n",
      "144    2.5\n",
      "145    2.3\n",
      "146    1.9\n",
      "147    2.0\n",
      "148    2.3\n",
      "149    1.8\n",
      "Name: petal_width, dtype: float64}\n"
     ]
    }
   ],
   "source": [
    "print(d_data)"
   ]
  },
  {
   "cell_type": "code",
   "execution_count": 9,
   "metadata": {},
   "outputs": [],
   "source": [
    "F, p = stats.f_oneway(d_data['setosa'], d_data['versicolor'], d_data['virginica'])"
   ]
  },
  {
   "cell_type": "code",
   "execution_count": 10,
   "metadata": {},
   "outputs": [
    {
     "data": {
      "text/plain": [
       "4.169445839443116e-85"
      ]
     },
     "execution_count": 10,
     "metadata": {},
     "output_type": "execute_result"
    }
   ],
   "source": [
    "p"
   ]
  },
  {
   "cell_type": "code",
   "execution_count": 11,
   "metadata": {},
   "outputs": [
    {
     "name": "stdout",
     "output_type": "stream",
     "text": [
      "null hypothesis is rejected\n"
     ]
    }
   ],
   "source": [
    "if p<0.05:\n",
    "    print(\"null hypothesis is rejected\")\n",
    "else:\n",
    "    print(\"null hypothesis is accepted\")"
   ]
  },
  {
   "cell_type": "code",
   "execution_count": 12,
   "metadata": {},
   "outputs": [],
   "source": [
    "df_anova = df[['sepal_width','species']]"
   ]
  },
  {
   "cell_type": "code",
   "execution_count": 13,
   "metadata": {},
   "outputs": [],
   "source": [
    "d_data = {grp:df_anova['sepal_width'][df_anova.species == grp] for grp in grps}"
   ]
  },
  {
   "cell_type": "code",
   "execution_count": 14,
   "metadata": {},
   "outputs": [
    {
     "data": {
      "text/plain": [
       "{'setosa': 0     3.5\n",
       " 1     3.0\n",
       " 2     3.2\n",
       " 3     3.1\n",
       " 4     3.6\n",
       " 5     3.9\n",
       " 6     3.4\n",
       " 7     3.4\n",
       " 8     2.9\n",
       " 9     3.1\n",
       " 10    3.7\n",
       " 11    3.4\n",
       " 12    3.0\n",
       " 13    3.0\n",
       " 14    4.0\n",
       " 15    4.4\n",
       " 16    3.9\n",
       " 17    3.5\n",
       " 18    3.8\n",
       " 19    3.8\n",
       " 20    3.4\n",
       " 21    3.7\n",
       " 22    3.6\n",
       " 23    3.3\n",
       " 24    3.4\n",
       " 25    3.0\n",
       " 26    3.4\n",
       " 27    3.5\n",
       " 28    3.4\n",
       " 29    3.2\n",
       " 30    3.1\n",
       " 31    3.4\n",
       " 32    4.1\n",
       " 33    4.2\n",
       " 34    3.1\n",
       " 35    3.2\n",
       " 36    3.5\n",
       " 37    3.6\n",
       " 38    3.0\n",
       " 39    3.4\n",
       " 40    3.5\n",
       " 41    2.3\n",
       " 42    3.2\n",
       " 43    3.5\n",
       " 44    3.8\n",
       " 45    3.0\n",
       " 46    3.8\n",
       " 47    3.2\n",
       " 48    3.7\n",
       " 49    3.3\n",
       " Name: sepal_width, dtype: float64, 'versicolor': 50    3.2\n",
       " 51    3.2\n",
       " 52    3.1\n",
       " 53    2.3\n",
       " 54    2.8\n",
       " 55    2.8\n",
       " 56    3.3\n",
       " 57    2.4\n",
       " 58    2.9\n",
       " 59    2.7\n",
       " 60    2.0\n",
       " 61    3.0\n",
       " 62    2.2\n",
       " 63    2.9\n",
       " 64    2.9\n",
       " 65    3.1\n",
       " 66    3.0\n",
       " 67    2.7\n",
       " 68    2.2\n",
       " 69    2.5\n",
       " 70    3.2\n",
       " 71    2.8\n",
       " 72    2.5\n",
       " 73    2.8\n",
       " 74    2.9\n",
       " 75    3.0\n",
       " 76    2.8\n",
       " 77    3.0\n",
       " 78    2.9\n",
       " 79    2.6\n",
       " 80    2.4\n",
       " 81    2.4\n",
       " 82    2.7\n",
       " 83    2.7\n",
       " 84    3.0\n",
       " 85    3.4\n",
       " 86    3.1\n",
       " 87    2.3\n",
       " 88    3.0\n",
       " 89    2.5\n",
       " 90    2.6\n",
       " 91    3.0\n",
       " 92    2.6\n",
       " 93    2.3\n",
       " 94    2.7\n",
       " 95    3.0\n",
       " 96    2.9\n",
       " 97    2.9\n",
       " 98    2.5\n",
       " 99    2.8\n",
       " Name: sepal_width, dtype: float64, 'virginica': 100    3.3\n",
       " 101    2.7\n",
       " 102    3.0\n",
       " 103    2.9\n",
       " 104    3.0\n",
       " 105    3.0\n",
       " 106    2.5\n",
       " 107    2.9\n",
       " 108    2.5\n",
       " 109    3.6\n",
       " 110    3.2\n",
       " 111    2.7\n",
       " 112    3.0\n",
       " 113    2.5\n",
       " 114    2.8\n",
       " 115    3.2\n",
       " 116    3.0\n",
       " 117    3.8\n",
       " 118    2.6\n",
       " 119    2.2\n",
       " 120    3.2\n",
       " 121    2.8\n",
       " 122    2.8\n",
       " 123    2.7\n",
       " 124    3.3\n",
       " 125    3.2\n",
       " 126    2.8\n",
       " 127    3.0\n",
       " 128    2.8\n",
       " 129    3.0\n",
       " 130    2.8\n",
       " 131    3.8\n",
       " 132    2.8\n",
       " 133    2.8\n",
       " 134    2.6\n",
       " 135    3.0\n",
       " 136    3.4\n",
       " 137    3.1\n",
       " 138    3.0\n",
       " 139    3.1\n",
       " 140    3.1\n",
       " 141    3.1\n",
       " 142    2.7\n",
       " 143    3.2\n",
       " 144    3.3\n",
       " 145    3.0\n",
       " 146    2.5\n",
       " 147    3.0\n",
       " 148    3.4\n",
       " 149    3.0\n",
       " Name: sepal_width, dtype: float64}"
      ]
     },
     "execution_count": 14,
     "metadata": {},
     "output_type": "execute_result"
    }
   ],
   "source": [
    "d_data"
   ]
  },
  {
   "cell_type": "code",
   "execution_count": 15,
   "metadata": {},
   "outputs": [],
   "source": [
    "_, p = stats.f_oneway(d_data['setosa'], d_data['versicolor'], d_data['virginica'])"
   ]
  },
  {
   "cell_type": "code",
   "execution_count": 16,
   "metadata": {},
   "outputs": [
    {
     "data": {
      "text/plain": [
       "4.492017133309115e-17"
      ]
     },
     "execution_count": 16,
     "metadata": {},
     "output_type": "execute_result"
    }
   ],
   "source": [
    "p"
   ]
  },
  {
   "cell_type": "code",
   "execution_count": 17,
   "metadata": {},
   "outputs": [
    {
     "name": "stdout",
     "output_type": "stream",
     "text": [
      "null hypothesis is rejected\n"
     ]
    }
   ],
   "source": [
    "if p<0.05:\n",
    "    print(\"null hypothesis is rejected\")\n",
    "else:\n",
    "    print(\"null hypothesis is accepted\")"
   ]
  },
  {
   "cell_type": "code",
   "execution_count": null,
   "metadata": {},
   "outputs": [],
   "source": []
  }
 ],
 "metadata": {
  "kernelspec": {
   "display_name": "Python 3",
   "language": "python",
   "name": "python3"
  },
  "language_info": {
   "codemirror_mode": {
    "name": "ipython",
    "version": 3
   },
   "file_extension": ".py",
   "mimetype": "text/x-python",
   "name": "python",
   "nbconvert_exporter": "python",
   "pygments_lexer": "ipython3",
   "version": "3.7.4"
  }
 },
 "nbformat": 4,
 "nbformat_minor": 2
}
